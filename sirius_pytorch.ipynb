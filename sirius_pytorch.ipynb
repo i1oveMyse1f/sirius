{
  "nbformat": 4,
  "nbformat_minor": 0,
  "metadata": {
    "colab": {
      "name": "sirius-pytorch.ipynb",
      "provenance": [],
      "collapsed_sections": [],
      "include_colab_link": true
    },
    "kernelspec": {
      "name": "python3",
      "display_name": "Python 3"
    },
    "language_info": {
      "name": "python"
    }
  },
  "cells": [
    {
      "cell_type": "markdown",
      "metadata": {
        "id": "view-in-github",
        "colab_type": "text"
      },
      "source": [
        "<a href=\"https://colab.research.google.com/github/i1oveMyse1f/sirius/blob/master/sirius_pytorch.ipynb\" target=\"_parent\"><img src=\"https://colab.research.google.com/assets/colab-badge.svg\" alt=\"Open In Colab\"/></a>"
      ]
    },
    {
      "cell_type": "markdown",
      "metadata": {
        "id": "fNZT5u2OrYV9"
      },
      "source": [
        "# PyTorch и MNIST"
      ]
    },
    {
      "cell_type": "markdown",
      "metadata": {
        "id": "yWW-zhrT-5mY"
      },
      "source": [
        "В этом задании предлагается обучить свёрточную нейросеть, определяющая, какая цифра нарисована на картинке, используя PyTorch."
      ]
    },
    {
      "cell_type": "markdown",
      "metadata": {
        "id": "OQNPod1X1scP"
      },
      "source": [
        "## Загрузка библиотек"
      ]
    },
    {
      "cell_type": "markdown",
      "metadata": {
        "id": "fuwDgrw1-46D"
      },
      "source": [
        "Сначала загрузим библиотеки, которые понадобятся"
      ]
    },
    {
      "cell_type": "code",
      "metadata": {
        "id": "5ELpP9K3rVsy"
      },
      "source": [
        "import numpy as np\n",
        "\n",
        "import torch\n",
        "import torchvision\n",
        "from torchvision import transforms\n",
        "\n",
        "from tqdm import tqdm\n",
        "\n",
        "from torch import nn\n",
        "from torch.nn import functional as F\n",
        "\n",
        "from torch.utils.data import DataLoader\n",
        "\n",
        "from IPython.display import clear_output\n",
        "\n",
        "import matplotlib.pyplot as plt"
      ],
      "execution_count": null,
      "outputs": []
    },
    {
      "cell_type": "markdown",
      "metadata": {
        "id": "8_sKMeBMtv4R"
      },
      "source": [
        "## Подготовка данных"
      ]
    },
    {
      "cell_type": "markdown",
      "metadata": {
        "id": "kRByd8uf_1Nj"
      },
      "source": [
        "Нейросеть будет обучаться на датасете рукописных цифр [MNIST](https://ru.wikipedia.org/wiki/MNIST_(%D0%B1%D0%B0%D0%B7%D0%B0_%D0%B4%D0%B0%D0%BD%D0%BD%D1%8B%D1%85)).\n",
        "\n",
        "К счастью, в PyTorch уже встроен загрузчик этого датасета, и мы им воспользуемся. Но для начала зададим некоторые параметры для загрузчика:\n",
        "\n",
        "1. Размер батча. PyTorch умеет подавать на обучение сразу не один объект, а несколько. В каком объёме &mdash; зависит от предоставленных вычислительных возможностей. Обычно ставят `batch_size` равным 64, 128, 256 или 512.\n",
        "\n",
        "2. Предварительные преобразования. На лекции рассказывалось, что PyTorch умеет работать с тензорами, в то время как картинки с цифрами являются растровыми изображениями. Чтобы PyTorch мог с ними работать, нужно выполнить преобразования. Воспользуйтесь классами из [`torchvision.transforms`](https://pytorch.org/vision/stable/transforms.html): `ToTensor`, чтобы превратить изображение в тензор, `Normalize`, чтобы нормализовать его, и `Compose`, чтобы совместить преобразования."
      ]
    },
    {
      "cell_type": "code",
      "metadata": {
        "id": "5ULNqcToty6i"
      },
      "source": [
        "batch_size = ..."
      ],
      "execution_count": null,
      "outputs": []
    },
    {
      "cell_type": "code",
      "metadata": {
        "id": "yl0ZYLbAv_hK"
      },
      "source": [
        "train_transform = ...\n",
        "test_transform = ..."
      ],
      "execution_count": null,
      "outputs": []
    },
    {
      "cell_type": "markdown",
      "metadata": {
        "id": "5WN1SuInCjAp"
      },
      "source": [
        "Инициализируем загрузчик:"
      ]
    },
    {
      "cell_type": "code",
      "metadata": {
        "id": "pa64TbZWxYmh"
      },
      "source": [
        "train_data = torchvision.datasets.MNIST('./files/', train=True, download=True, transform=train_transform)\n",
        "train_loader = DataLoader(train_data, batch_size=batch_size, shuffle=True)\n",
        "\n",
        "test_data = torchvision.datasets.MNIST('./files/', train=False, download=True, transform=test_transform)\n",
        "test_loader = DataLoader(test_data, batch_size=batch_size, shuffle=True)"
      ],
      "execution_count": null,
      "outputs": []
    },
    {
      "cell_type": "markdown",
      "metadata": {
        "id": "KHec2nV3Cyzd"
      },
      "source": [
        "Убедитесь, что изображения загрузились:"
      ]
    },
    {
      "cell_type": "code",
      "metadata": {
        "id": "AN_HajevPUzA"
      },
      "source": [
        "fig, ax = plt.subplots(2, 3, figsize=(10, 10))\n",
        "for image, number in train_loader:\n",
        "    for i in range(2):\n",
        "        for j in range(3):\n",
        "            ax[i, j].imshow(image[i * 3 + j].reshape(28, 28))\n",
        "            ax[i, j].set_title(f'It\\'s {number[i * 3 + j]}')\n",
        "            ax[i, j].axis('off')\n",
        "    break\n",
        "fig.show()"
      ],
      "execution_count": null,
      "outputs": []
    },
    {
      "cell_type": "markdown",
      "metadata": {
        "id": "aoZe4ybT1oin"
      },
      "source": [
        "## Подготовка нейросети"
      ]
    },
    {
      "cell_type": "markdown",
      "metadata": {
        "id": "10Clb3ZnDJ-C"
      },
      "source": [
        "Опишите класс нейросети `ConvNet`: в его конструкторе инициализируйте слои нейросети. В функции `forward` на вход подается батч из картинок, а на выход &mdash; результат классификатора (пройденные через слои картинки).\n",
        "\n",
        "**Вам могут понадобиться:**\n",
        "\n",
        "1. Классы из модуля [`torch.nn`](https://pytorch.org/docs/stable/nn.html) для обучения:\n",
        "    1. `nn.Conv2d` &mdash; двумерная свёртка\n",
        "    3. `nn.Linear` &mdash; обычный линейный слой \n",
        "2. Класс из модуля `torch.nn` для отбора значений и борьбы с переобучением:\n",
        "    1. `nn.MaxPool2d` &mdash; двумерный MaxPool\n",
        "    2. `nn.Dropout` &mdash; случайное отключение нейронов\n",
        "3. Классы из модуля `torch.nn` для функций нелинейности:\n",
        "    1. `nn.ReLU` &mdash; ReLU\n",
        "    2. `nn.Softmax` &mdash; Softmax\n",
        "4. И, наконец, класс из `torch.nn` для связи остальных компонентов:\n",
        "    1. `nn.Sequential`\n"
      ]
    },
    {
      "cell_type": "code",
      "metadata": {
        "id": "d0AhJZr7zMg4"
      },
      "source": [
        "class ConvNet(nn.Module):\n",
        "    def __init__(self):\n",
        "        super().__init__()\n",
        "        ...\n",
        "    \n",
        "    def forward(self, x):\n",
        "        ...\n",
        "        return ..."
      ],
      "execution_count": null,
      "outputs": []
    },
    {
      "cell_type": "markdown",
      "source": [
        "Посмотрим, доступна ли видеокарта для вычислений. Если этот ноутбук открыт в Google Colab, убедитесь, что он запущен в среде с GPU (Меню -> Runtime -> Change runtime type -> Hardware accelerator: GPU). "
      ],
      "metadata": {
        "id": "TkgnH8C-HE32"
      }
    },
    {
      "cell_type": "code",
      "source": [
        "device = torch.device('cuda:0') if torch.cuda.is_available() else torch.device('cpu')\n",
        "if str(device) == 'cuda:0':\n",
        "    is_gpu_available = 'доступна, вычисления будут на GPU'\n",
        "else:\n",
        "    is_gpu_available = 'недоступна, вычисления будут на CPU'\n",
        "print(f'Статус доступности видеокарты: {is_gpu_available}')"
      ],
      "metadata": {
        "id": "5iuGAJdzIkHI"
      },
      "execution_count": null,
      "outputs": []
    },
    {
      "cell_type": "markdown",
      "metadata": {
        "id": "6VLPOPQcGx66"
      },
      "source": [
        "Инициализируйте модель, а также задайте [оптимизатор](https://pytorch.org/docs/stable/optim.html) градиентного спуска (например, Adam или SGD), [функционал ошибки](https://pytorch.org/docs/stable/generated/torch.nn.CrossEntropyLoss.html?highlight=crossentropyloss) и количетсво эпох обучения:"
      ]
    },
    {
      "cell_type": "code",
      "metadata": {
        "id": "bMh6_ZgM2SLI"
      },
      "source": [
        "model = ...\n",
        "optimizer = ...\n",
        "criterion = ...\n",
        "n_epochs = ..."
      ],
      "execution_count": null,
      "outputs": []
    },
    {
      "cell_type": "markdown",
      "metadata": {
        "id": "H-v-IrP1HjEL"
      },
      "source": [
        "Перенесём модель на видеокарту, чтобы в разы ускорить вычисления."
      ]
    },
    {
      "cell_type": "code",
      "metadata": {
        "id": "W9utAZmy68cG"
      },
      "source": [
        "model.to(device)"
      ],
      "execution_count": null,
      "outputs": []
    },
    {
      "cell_type": "markdown",
      "metadata": {
        "id": "gVfScyR_3A5C"
      },
      "source": [
        "## Обучение и тестирование"
      ]
    },
    {
      "cell_type": "markdown",
      "metadata": {
        "id": "5PyfJMmQIpks"
      },
      "source": [
        "В качестве метрики будем использовать точность предсказаний, её подсчитать можно при помощи `accuracy_score`:"
      ]
    },
    {
      "cell_type": "code",
      "metadata": {
        "id": "kWsOL0Bb9W1X"
      },
      "source": [
        "from sklearn.metrics import accuracy_score"
      ],
      "execution_count": null,
      "outputs": []
    },
    {
      "cell_type": "markdown",
      "metadata": {
        "id": "9KMPkOAEJKkM"
      },
      "source": [
        "Вспомогательная функция, которая принимает список точностей на обучающей и на тестировочной выборке после каждой эпохи и строит график:"
      ]
    },
    {
      "cell_type": "code",
      "metadata": {
        "id": "hYCbovbe9zR8"
      },
      "source": [
        "def plot_loss_accuracy(train_losses, train_accs, test_accs):\n",
        "    clear_output(True)\n",
        "    fig, ax = plt.subplots(1, 2, figsize=(26,10))\n",
        "    ax[0].set_title('Train Loss')\n",
        "    ax[0].plot(train_losses)\n",
        "    ax[1].set_title('Accuracy')\n",
        "    ax[1].plot(train_accs, label='Train')\n",
        "    ax[1].plot(test_accs, label='Test')\n",
        "    ax[1].legend()\n",
        "    plt.grid()\n",
        "    plt.show()"
      ],
      "execution_count": null,
      "outputs": []
    },
    {
      "cell_type": "markdown",
      "metadata": {
        "id": "JRvNFEQIJdyf"
      },
      "source": [
        "Напишите функции обучения одной эпохи, подсчёт предсказания и полного обучения нейросети.\n",
        "\n",
        "\n",
        "*Процесс обучения одной эпохи:*\n",
        "1. Обнуление градиента оптимизатора\n",
        "2. Вычисление предсказаний\n",
        "3. Подсчет ошибки\n",
        "4. Вычисление антиградиента функционала ошибки\n",
        "5. Спуск оптимизатора по антиградиенту\n",
        "\n",
        "*Не забывайте до работы с моделью переводить все тензоры на GPU, а перед подсчётом точности отсоединять нужные тензоры и переводить их на CPU при помощи `.detach().cpu()`*"
      ]
    },
    {
      "cell_type": "code",
      "metadata": {
        "id": "APa7XNS13DHq"
      },
      "source": [
        "def train_epoch(model, train_loader, criterion, optimizer, device='cpu'):\n",
        "    model.train()\n",
        "    for batch_X, batch_Y in tqdm(train_loader):\n",
        "        ...\n",
        "    return mean_train_loss, mean_train_accuracy\n",
        "\n",
        "\n",
        "def predict(model, test_loader, criterion, device='cpu'):\n",
        "    model.eval()\n",
        "    with torch.no_grad():\n",
        "        for batch_X, batch_Y in tqdm(test_loader):\n",
        "            ...\n",
        "    return mean_test_accuracy\n",
        "\n",
        "\n",
        "def train(model, train_loader, test_loader, criterion, optimizer, n_epochs, device='cpu'):\n",
        "    train_losses = []\n",
        "    train_accs = []\n",
        "    test_accs = []\n",
        "\n",
        "    for epoch in range(n_epochs):\n",
        "        ...\n",
        "        plot_accuracy(train_losses, train_accs, test_accs)"
      ],
      "execution_count": null,
      "outputs": []
    },
    {
      "cell_type": "markdown",
      "metadata": {
        "id": "oYx2nvdaJ1mo"
      },
      "source": [
        "Запустите обучение нейросети:"
      ]
    },
    {
      "cell_type": "code",
      "metadata": {
        "id": "hedHC6jTJ5Kr"
      },
      "source": [
        "train(model, train_loader, test_loader, criterion, optimizer, n_epochs)"
      ],
      "execution_count": null,
      "outputs": []
    },
    {
      "cell_type": "markdown",
      "source": [
        "## Перенос обучения"
      ],
      "metadata": {
        "id": "XMLBGTCANvc1"
      }
    },
    {
      "cell_type": "markdown",
      "source": [
        "Одним из мощных инструментов в глубинном обучении является перенос обучения (Transer Learning).\n",
        "Суть приёма заключается в том, что для решения задачи мы не собираем новую модель и обучаем её с нуля, а используем другую предобученную другую, и дообучаем её под поставленную задачу.\n",
        "\n",
        "В данной задаче будем использовать модель ResNet-50: большую нейросеть, которая была сконструирована для соревнования [ImageNet](https://ru.wikipedia.org/wiki/ImageNet). Она классифицирует цветные изображения, каждое изоражение принадлежит одному из 1000 классов. Текущая задача другая: изображения чёрно-белые, и классов 10, а не 1000, поэтому изменим структуру ResNet. "
      ],
      "metadata": {
        "id": "7DyY52caONB-"
      }
    },
    {
      "cell_type": "code",
      "source": [
        "from torchvision.models import resnet50"
      ],
      "metadata": {
        "id": "vKYXBdzeU0Qt"
      },
      "execution_count": null,
      "outputs": []
    },
    {
      "cell_type": "code",
      "source": [
        "class ModifiedResNet(nn.Module):\n",
        "    def __init__(self):\n",
        "        super().__init__()\n",
        "\n",
        "        # Загрузите предобученный resnet50\n",
        "        self.model = resnet50(pretrained=True)\n",
        "\n",
        "        # Так как изображения чёрно-белые, а не цветные, то надо изменить\n",
        "        # число каналов в первом слое сети\n",
        "        self.model.conv1 = nn.Conv2d(..., 64, kernel_size=7, stride=2, padding=3, bias=False)\n",
        "        \n",
        "        # Измените последний слой сети: настройте число классов\n",
        "        fc_in_features = self.model.fc.in_features\n",
        "        self.model.fc = ...\n",
        "\n",
        "    def forward(self, x):\n",
        "        return self.model(x)"
      ],
      "metadata": {
        "id": "xXnz3-wXO9nv"
      },
      "execution_count": null,
      "outputs": []
    },
    {
      "cell_type": "markdown",
      "source": [
        "Дообучите и протестируйте модель:"
      ],
      "metadata": {
        "id": "hoTShpTEXJ17"
      }
    },
    {
      "cell_type": "code",
      "source": [
        "model = ...\n",
        "optimizer = ...\n",
        "criterion = ...\n",
        "n_epochs = ...\n",
        "\n",
        "model.to(device)"
      ],
      "metadata": {
        "id": "uJd1TSLKXQxb"
      },
      "execution_count": null,
      "outputs": []
    },
    {
      "cell_type": "code",
      "source": [
        "train(model, train_loader, test_loader, criterion, optimizer, n_epochs)"
      ],
      "metadata": {
        "id": "cI0wZ_dxXjMv"
      },
      "execution_count": null,
      "outputs": []
    }
  ]
}