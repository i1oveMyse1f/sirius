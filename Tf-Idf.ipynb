{
 "cells": [
  {
   "cell_type": "markdown",
   "id": "controlling-individual",
   "metadata": {
    "slideshow": {
     "slide_type": "slide"
    }
   },
   "source": [
    "# Tf-Idf"
   ]
  },
  {
   "cell_type": "markdown",
   "id": "coated-contemporary",
   "metadata": {
    "slideshow": {
     "slide_type": "slide"
    }
   },
   "source": [
    "## Загрузим данные"
   ]
  },
  {
   "cell_type": "code",
   "execution_count": 1,
   "id": "shared-literature",
   "metadata": {
    "slideshow": {
     "slide_type": "fragment"
    }
   },
   "outputs": [],
   "source": [
    "import pandas as pd\n",
    "import numpy as np"
   ]
  },
  {
   "cell_type": "code",
   "execution_count": 40,
   "id": "driven-princess",
   "metadata": {},
   "outputs": [
    {
     "data": {
      "text/html": [
       "<div>\n",
       "<style scoped>\n",
       "    .dataframe tbody tr th:only-of-type {\n",
       "        vertical-align: middle;\n",
       "    }\n",
       "\n",
       "    .dataframe tbody tr th {\n",
       "        vertical-align: top;\n",
       "    }\n",
       "\n",
       "    .dataframe thead th {\n",
       "        text-align: right;\n",
       "    }\n",
       "</style>\n",
       "<table border=\"1\" class=\"dataframe\">\n",
       "  <thead>\n",
       "    <tr style=\"text-align: right;\">\n",
       "      <th></th>\n",
       "      <th>target</th>\n",
       "      <th>text</th>\n",
       "    </tr>\n",
       "  </thead>\n",
       "  <tbody>\n",
       "    <tr>\n",
       "      <th>0</th>\n",
       "      <td>ham</td>\n",
       "      <td>Hey hun-onbus goin 2 meet him. He wants 2go ou...</td>\n",
       "    </tr>\n",
       "    <tr>\n",
       "      <th>1</th>\n",
       "      <td>ham</td>\n",
       "      <td>I love your ass! Do you enjoy doggy style? :)</td>\n",
       "    </tr>\n",
       "    <tr>\n",
       "      <th>2</th>\n",
       "      <td>ham</td>\n",
       "      <td>By the way, make sure u get train to worc fore...</td>\n",
       "    </tr>\n",
       "    <tr>\n",
       "      <th>3</th>\n",
       "      <td>ham</td>\n",
       "      <td>U know we watchin at lido?</td>\n",
       "    </tr>\n",
       "    <tr>\n",
       "      <th>4</th>\n",
       "      <td>ham</td>\n",
       "      <td>I got it before the new year cos yetunde said ...</td>\n",
       "    </tr>\n",
       "    <tr>\n",
       "      <th>...</th>\n",
       "      <td>...</td>\n",
       "      <td>...</td>\n",
       "    </tr>\n",
       "    <tr>\n",
       "      <th>2781</th>\n",
       "      <td>ham</td>\n",
       "      <td>Set a place for me in your heart and not in yo...</td>\n",
       "    </tr>\n",
       "    <tr>\n",
       "      <th>2782</th>\n",
       "      <td>ham</td>\n",
       "      <td>I don't run away frm u... I walk slowly &amp;amp; ...</td>\n",
       "    </tr>\n",
       "    <tr>\n",
       "      <th>2783</th>\n",
       "      <td>ham</td>\n",
       "      <td>What happened to our yo date?</td>\n",
       "    </tr>\n",
       "    <tr>\n",
       "      <th>2784</th>\n",
       "      <td>ham</td>\n",
       "      <td>Oh ok.. Wat's ur email?</td>\n",
       "    </tr>\n",
       "    <tr>\n",
       "      <th>2785</th>\n",
       "      <td>ham</td>\n",
       "      <td>I tot u reach liao. He said t-shirt.</td>\n",
       "    </tr>\n",
       "  </tbody>\n",
       "</table>\n",
       "<p>2786 rows × 2 columns</p>\n",
       "</div>"
      ],
      "text/plain": [
       "     target                                               text\n",
       "0       ham  Hey hun-onbus goin 2 meet him. He wants 2go ou...\n",
       "1       ham      I love your ass! Do you enjoy doggy style? :)\n",
       "2       ham  By the way, make sure u get train to worc fore...\n",
       "3       ham                         U know we watchin at lido?\n",
       "4       ham  I got it before the new year cos yetunde said ...\n",
       "...     ...                                                ...\n",
       "2781    ham  Set a place for me in your heart and not in yo...\n",
       "2782    ham  I don't run away frm u... I walk slowly &amp; ...\n",
       "2783    ham                      What happened to our yo date?\n",
       "2784    ham                            Oh ok.. Wat's ur email?\n",
       "2785    ham               I tot u reach liao. He said t-shirt.\n",
       "\n",
       "[2786 rows x 2 columns]"
      ]
     },
     "execution_count": 40,
     "metadata": {},
     "output_type": "execute_result"
    }
   ],
   "source": [
    "train = pd.read_csv(\"train.csv\")\n",
    "test = pd.read_csv(\"test.csv\")\n",
    "train"
   ]
  },
  {
   "cell_type": "markdown",
   "id": "soviet-balloon",
   "metadata": {},
   "source": [
    "## Сохраним метки классов"
   ]
  },
  {
   "cell_type": "code",
   "execution_count": 41,
   "id": "ecological-clearance",
   "metadata": {
    "slideshow": {
     "slide_type": "slide"
    }
   },
   "outputs": [],
   "source": [
    "y_train = (train[\"target\"] == \"spam\").astype(int)\n",
    "y_test = (test[\"target\"] == \"spam\").astype(int)"
   ]
  },
  {
   "cell_type": "markdown",
   "id": "controlling-investor",
   "metadata": {},
   "source": [
    "# Константное предсказание\n",
    "\n",
    "Бейзлайн - предсказать всем письмам spam."
   ]
  },
  {
   "cell_type": "code",
   "execution_count": 51,
   "id": "incorporate-local",
   "metadata": {},
   "outputs": [
    {
     "data": {
      "text/plain": [
       "0.21810041573393027"
      ]
     },
     "execution_count": 51,
     "metadata": {},
     "output_type": "execute_result"
    }
   ],
   "source": [
    "from sklearn.metrics import f1_score\n",
    "\n",
    "f1_score(y_test, np.ones((len(y_test),)))"
   ]
  },
  {
   "cell_type": "markdown",
   "id": "organizational-unknown",
   "metadata": {},
   "source": [
    "# Tf-Idf\n",
    "\n",
    "$$ w_{ij} = tf_{ij} \\cdot \\log \\left( \\frac{N}{df_{i}} \\right), где $$\n",
    "\n",
    "$tf_{ij}$ - это частота встречаемости слова/$n$-граммы $i$ в предложении $j$,\n",
    "\n",
    "$df_{i}$ - это количество предложений, содержащих слово/$n$-грамму $i$\n",
    "\n",
    "$N$ - общее количество предложений"
   ]
  },
  {
   "cell_type": "code",
   "execution_count": 67,
   "id": "defensive-insulin",
   "metadata": {},
   "outputs": [],
   "source": [
    "from sklearn.feature_extraction.text import TfidfVectorizer\n",
    "\n",
    "vectorizer = TfidfVectorizer(lowercase=True, analyzer=\"char_wb\", max_features=50_000, ngram_range=(1, 5))\n",
    "vectorizer.fit(train['text'])\n",
    "encode_func = lambda texts: vectorizer.transform(texts)"
   ]
  },
  {
   "cell_type": "code",
   "execution_count": 73,
   "id": "general-length",
   "metadata": {},
   "outputs": [
    {
     "data": {
      "text/plain": [
       "32"
      ]
     },
     "execution_count": 73,
     "metadata": {},
     "output_type": "execute_result"
    }
   ],
   "source": [
    "(encode_func([\"Hi, brooooo\"]) != 0).sum()"
   ]
  },
  {
   "cell_type": "markdown",
   "id": "second-witch",
   "metadata": {},
   "source": [
    "# Обучаем модель"
   ]
  },
  {
   "cell_type": "code",
   "execution_count": 74,
   "id": "touched-variance",
   "metadata": {},
   "outputs": [],
   "source": [
    "from sklearn.linear_model import LogisticRegression\n",
    "\n",
    "logreg = LogisticRegression()\n",
    "logreg = logreg.fit(encode_func(train['text']), y_train)\n",
    "\n",
    "y_pred = logreg.predict_proba(encode_func(train['text']))[:,1]"
   ]
  },
  {
   "cell_type": "markdown",
   "id": "champion-connectivity",
   "metadata": {},
   "source": [
    " ## Подбираем параметры"
   ]
  },
  {
   "cell_type": "code",
   "execution_count": 75,
   "id": "isolated-brisbane",
   "metadata": {},
   "outputs": [
    {
     "data": {
      "text/plain": [
       "0.9518248175182482"
      ]
     },
     "execution_count": 75,
     "metadata": {},
     "output_type": "execute_result"
    }
   ],
   "source": [
    "opt_threshold = 0\n",
    "opt_f1 = f1_score(y_train, y_pred > 0)\n",
    "for threshold in np.linspace(0, 1, 1000):\n",
    "    f1 = f1_score(y_train, y_pred > threshold)\n",
    "    if f1 > opt_f1:\n",
    "        opt_f1 = f1\n",
    "        opt_threshold = threshold\n",
    "\n",
    "y_pred = logreg.predict_proba(encode_func(test['text']))[:,1]\n",
    "y_pred = y_pred > opt_threshold\n",
    "\n",
    "f1_score(y_test, y_pred)"
   ]
  }
 ],
 "metadata": {
  "celltoolbar": "Слайд-шоу",
  "kernelspec": {
   "display_name": "Python 3 (ipykernel)",
   "language": "python",
   "name": "python3"
  },
  "language_info": {
   "codemirror_mode": {
    "name": "ipython",
    "version": 3
   },
   "file_extension": ".py",
   "mimetype": "text/x-python",
   "name": "python",
   "nbconvert_exporter": "python",
   "pygments_lexer": "ipython3",
   "version": "3.8.6"
  }
 },
 "nbformat": 4,
 "nbformat_minor": 5
}
